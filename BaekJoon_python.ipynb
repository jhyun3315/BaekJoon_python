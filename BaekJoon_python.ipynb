{
 "cells": [
  {
   "cell_type": "markdown",
   "metadata": {},
   "source": [
    "# [단계] if문"
   ]
  },
  {
   "cell_type": "markdown",
   "metadata": {},
   "source": [
    "# 1330. 두 수 비교하기"
   ]
  },
  {
   "cell_type": "code",
   "execution_count": 34,
   "metadata": {},
   "outputs": [
    {
     "name": "stdout",
     "output_type": "stream",
     "text": [
      "10 8\n",
      ">\n"
     ]
    }
   ],
   "source": [
    "a,b= input().split()\n",
    "\n",
    "a = int(a)\n",
    "b = int(b)\n",
    "\n",
    "if a > b :\n",
    "    print('>')\n",
    "\n",
    "if a < b:\n",
    "    print('<')\n",
    "    \n",
    "if a == b :\n",
    "    print('==')"
   ]
  },
  {
   "cell_type": "markdown",
   "metadata": {},
   "source": [
    "# 9498. 시험 성적"
   ]
  },
  {
   "cell_type": "code",
   "execution_count": 32,
   "metadata": {},
   "outputs": [
    {
     "name": "stdout",
     "output_type": "stream",
     "text": [
      "76\n",
      "C\n"
     ]
    }
   ],
   "source": [
    "a = int(input())\n",
    "\n",
    "if 90<= a <=100 :\n",
    "    print('A')\n",
    "\n",
    "elif 80<= a <= 89:\n",
    "    print('B')\n",
    "    \n",
    "elif 70<= a <= 79:\n",
    "    print('C')\n",
    "\n",
    "elif 60<= a <= 69:\n",
    "    print('D')\n",
    "\n",
    "else :\n",
    "    print('F')"
   ]
  },
  {
   "cell_type": "markdown",
   "metadata": {},
   "source": [
    "# 2753. 윤년"
   ]
  },
  {
   "cell_type": "code",
   "execution_count": 35,
   "metadata": {},
   "outputs": [
    {
     "name": "stdout",
     "output_type": "stream",
     "text": [
      "2000\n",
      "1\n"
     ]
    }
   ],
   "source": [
    "a= int(input())\n",
    "\n",
    "\n",
    "if ((a%4 ==0) and (a%100 != 0 or a%400 == 0)) :\n",
    "    print('1')\n",
    "\n",
    "else :\n",
    "    print('0')"
   ]
  },
  {
   "cell_type": "markdown",
   "metadata": {},
   "source": [
    "# 2884. 알람 시계"
   ]
  },
  {
   "cell_type": "code",
   "execution_count": 36,
   "metadata": {},
   "outputs": [
    {
     "name": "stdout",
     "output_type": "stream",
     "text": [
      "0 16\n",
      "23 31\n"
     ]
    }
   ],
   "source": [
    "\n",
    "H, M= input().split()\n",
    "\n",
    "H = int(H)\n",
    "M = int(M)\n",
    "\n",
    "\n",
    "if 1<H<24:\n",
    "    if M < 45 :\n",
    "        H -= 1\n",
    "        M = abs(60+M-45)\n",
    "        print(H,M)\n",
    "\n",
    "    else :\n",
    "        M -=45\n",
    "        print(H, M)\n",
    "else :\n",
    "    if M < 45 :\n",
    "        H = 23\n",
    "        M = abs(60+M-45)\n",
    "        print(H,M)\n",
    "\n",
    "    else :\n",
    "        M -=45\n",
    "        print(H, M)"
   ]
  },
  {
   "cell_type": "markdown",
   "metadata": {},
   "source": [
    "# 10817. 세 수"
   ]
  },
  {
   "cell_type": "code",
   "execution_count": 46,
   "metadata": {},
   "outputs": [
    {
     "name": "stdout",
     "output_type": "stream",
     "text": [
      "20 30 10\n",
      "20\n"
     ]
    }
   ],
   "source": [
    "numbers = sorted(list(map(int, input().split())))\n",
    "\n",
    "print(numbers[1])"
   ]
  }
 ],
 "metadata": {
  "kernelspec": {
   "display_name": "Python 3",
   "language": "python",
   "name": "python3"
  },
  "language_info": {
   "codemirror_mode": {
    "name": "ipython",
    "version": 3
   },
   "file_extension": ".py",
   "mimetype": "text/x-python",
   "name": "python",
   "nbconvert_exporter": "python",
   "pygments_lexer": "ipython3",
   "version": "3.6.8"
  }
 },
 "nbformat": 4,
 "nbformat_minor": 2
}
